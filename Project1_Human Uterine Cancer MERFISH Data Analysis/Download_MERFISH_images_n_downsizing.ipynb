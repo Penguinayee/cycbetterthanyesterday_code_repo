{
  "cells": [
    {
      "cell_type": "code",
      "execution_count": null,
      "metadata": {
        "id": "OP1vZd3dg8Wu"
      },
      "outputs": [],
      "source": [
        "# Install necessary libraries\n",
        "!pip install -q gcsfs pillow"
      ]
    },
    {
      "cell_type": "code",
      "execution_count": null,
      "metadata": {
        "colab": {
          "base_uri": "https://localhost:8080/"
        },
        "id": "ZIGDUifuiDfB",
        "outputId": "8b6cf7b5-af1b-43f8-8290-099c0eb3ed50"
      },
      "outputs": [
        {
          "name": "stdout",
          "output_type": "stream",
          "text": [
            "Mounted at /content/drive\n"
          ]
        }
      ],
      "source": [
        "from google.colab import drive\n",
        "drive.mount('/content/drive')\n",
        "\n",
        "from google.colab import auth # Authenticate your Colab environment to access your Google Cloud account.\n",
        "auth.authenticate_user()"
      ]
    },
    {
      "cell_type": "code",
      "execution_count": null,
      "metadata": {
        "collapsed": true,
        "id": "kney8aMSf07P"
      },
      "outputs": [],
      "source": [
        "from PIL import Image\n",
        "import gcsfs\n",
        "import numpy as np\n",
        "import gc\n",
        "\n",
        "\n",
        "def download_from_gcs(gcs_path, local_path, chunk_size=1024 * 1024):\n",
        "    \"\"\"\n",
        "    Download a file from GCS to local storage using chunks to save RAM.\n",
        "    Args:\n",
        "    - gcs_path: gsutil URI of the file.\n",
        "    - local_path: Local path to save the file.\n",
        "    - chunk_size: Size of the chunks to download (default: 1 MB).\n",
        "    \"\"\"\n",
        "    fs = gcsfs.GCSFileSystem()\n",
        "\n",
        "    # Open the GCS file for reading\n",
        "    with fs.open(gcs_path, 'rb') as gcs_file:\n",
        "        # Open the local file for writing\n",
        "        with open(local_path, 'wb') as local_file:\n",
        "            while True:\n",
        "                # Read the file in chunks\n",
        "                chunk = gcs_file.read(chunk_size)\n",
        "                if not chunk:\n",
        "                    break\n",
        "                # Write the chunk to the local file\n",
        "                local_file.write(chunk)\n",
        "\n",
        "    print(f\"Downloaded file from {gcs_path} to {local_path} in chunks of {chunk_size // (1024 * 1024)} MB.\")\n",
        "    # Clear any remaining references\n",
        "    del chunk, gcs_file, local_file\n",
        "    gc.collect()\n",
        "\n",
        "\n",
        "def preview_image_metadata_only(image_path):\n",
        "    \"\"\"\n",
        "    Preview the dimensions and bit depth of an image without loading the full image into memory.\n",
        "    Args:\n",
        "    - image_path: Path to the image file.\n",
        "    \"\"\"\n",
        "    try:\n",
        "        with Image.open(image_path) as img:\n",
        "            print(f\"Image Path: {image_path}\")\n",
        "            print(f\"Dimensions: {img.width} x {img.height}\")\n",
        "            print(f\"Mode: {img.mode}\")\n",
        "    except ValueError as e:\n",
        "        print(f\"Error processing image: {e}\")\n",
        "\n",
        "\n",
        "def downsize_image_by_chunk(\n",
        "    input_path,\n",
        "    output_path,\n",
        "    percentage=50,\n",
        "    bit_depth=\"L\",\n",
        "    chunk_height=1024,\n",
        "    output_format=\"TIFF\",\n",
        "    quality=95\n",
        "):\n",
        "    \"\"\"\n",
        "    Downsize an image by percentage, processing it in chunks sequentially to save RAM.\n",
        "    Supports saving the output image in a compressed JPEG format.\n",
        "    Args:\n",
        "    - input_path: Path to the input image.\n",
        "    - output_path: Path to save the downsized image.\n",
        "    - percentage: Percentage to downsize the image (e.g., 50 for 50% reduction).\n",
        "    - bit_depth: Desired bit depth (\"L\" for grayscale, \"RGB\" for color).\n",
        "    - chunk_height: Height of each chunk to process sequentially.\n",
        "    - output_format: Output image format (\"TIFF\" or \"JPEG\").\n",
        "    - quality: Compression quality for JPEG (1-100, default is 95).\n",
        "    \"\"\"\n",
        "    scale_factor = percentage / 100.0\n",
        "\n",
        "    with Image.open(input_path) as img:\n",
        "        width, height = img.size\n",
        "        print(f\"Original dimensions: {width}x{height}\")\n",
        "\n",
        "        # Calculate new dimensions\n",
        "        new_width = int(width * scale_factor)\n",
        "        new_height = int(height * scale_factor)\n",
        "        print(f\"New dimensions: {new_width}x{new_height}\")\n",
        "\n",
        "        downsized_chunks = []\n",
        "\n",
        "        # Process each chunk\n",
        "        for top in range(0, height, chunk_height):\n",
        "            # Define the chunk's bounding box\n",
        "            bottom = min(top + chunk_height, height)\n",
        "            box = (0, top, width, bottom)\n",
        "\n",
        "            # Crop the chunk\n",
        "            chunk = img.crop(box)\n",
        "\n",
        "            # Normalize 16-bit values to 8-bit range if mode is I;16\n",
        "            if img.mode == \"I;16\":\n",
        "                chunk_array = np.array(chunk, dtype=np.float32)\n",
        "                chunk_normalized = ((chunk_array / chunk_array.max()) * 255).astype(np.uint8)\n",
        "                chunk = Image.fromarray(chunk_normalized)\n",
        "\n",
        "            # Downsize the chunk\n",
        "            resized_chunk = chunk.resize((new_width, int((bottom - top) * scale_factor)), Image.Resampling.LANCZOS)\n",
        "\n",
        "            # Convert to desired bit depth\n",
        "            downsized_chunk = resized_chunk.convert(bit_depth)\n",
        "\n",
        "            # Store downsized chunk\n",
        "            downsized_chunks.append(np.array(downsized_chunk))\n",
        "\n",
        "            # Clear memory for the current chunk\n",
        "            chunk.close()\n",
        "            resized_chunk.close()\n",
        "            downsized_chunk.close()\n",
        "            gc.collect()\n",
        "\n",
        "        # Combine chunks vertically\n",
        "        downsized_img_array = np.vstack(downsized_chunks)\n",
        "\n",
        "        # Convert back to PIL Image\n",
        "        downsized_img = Image.fromarray(downsized_img_array)\n",
        "\n",
        "        # Save the downsized image in the desired format\n",
        "        if output_format.upper() == \"JPEG\":\n",
        "            downsized_img = downsized_img.convert(\"RGB\")  # JPEG requires RGB mode\n",
        "            downsized_img.save(output_path, format=\"JPEG\", quality=quality)\n",
        "            print(f\"Image downsized and saved as JPEG at {output_path} with quality {quality}.\")\n",
        "        else:\n",
        "            downsized_img.save(output_path, format=output_format.upper())\n",
        "            print(f\"Image downsized and saved as {output_format.upper()} at {output_path}.\")\n",
        "\n",
        "        # Clear memory\n",
        "        del downsized_chunks, downsized_img_array, downsized_img\n",
        "        gc.collect()\n",
        "\n",
        "\n"
      ]
    },
    {
      "cell_type": "code",
      "execution_count": null,
      "metadata": {
        "colab": {
          "base_uri": "https://localhost:8080/"
        },
        "id": "EUlPmZwThdhH",
        "outputId": "8ecc1b1d-2c30-41d0-ab37-23b1b7248847"
      },
      "outputs": [
        {
          "name": "stdout",
          "output_type": "stream",
          "text": [
            "Downloaded file from gs://vz-ffpe-showcase/HumanUterineCancerPatient2-ROCostain/images/mosaic_Anti-Ms-CD45RO_z3.tif to /content/drive/MyDrive/mosaic_Anti-Ms-CD45RO_z3.tif in chunks of 1024 MB.\n",
            "Image Path: /content/drive/MyDrive/mosaic_Anti-Ms-CD45RO_z3.tif\n",
            "Dimensions: 98353 x 118725\n",
            "Mode: I;16\n",
            "Original dimensions: 98353x118725\n",
            "New dimensions: 9835x11872\n",
            "Image downsized and saved as TIFF at /content/drive/MyDrive/mosaic_Anti-Ms-CD45RO_downsized_z3.tif.\n"
          ]
        }
      ],
      "source": [
        "channels = ['DAPI' , 'PolyT', 'Cellbound1', 'Cellbound2', 'Cellbound3', 'Anti-Ms-CD45RO']\n",
        "\n",
        "for channel in channels:\n",
        "  # Define file paths\n",
        "  z_level = 3\n",
        "  raw_path = f'gs://vz-ffpe-showcase/HumanUterineCancerPatient2-ROCostain/images/mosaic_{channel}_z{z_level}.tif'\n",
        "  local_path = f'/content/drive/MyDrive/mosaic_{channel}_z{z_level}.tif'\n",
        "  output_path = f'/content/drive/MyDrive/mosaic_{channel}_downsized_z{z_level}.tif'\n",
        "\n",
        "\n",
        "  # Step 1: Download the file\n",
        "  download_from_gcs(raw_path, local_path, chunk_size=1 * 1024 * 1024 * 1024) # Download the file in chunks of 1 GB\n",
        "\n",
        "\n",
        "  # Step 2: Preview image details\n",
        " \n",
        "  Image.MAX_IMAGE_PIXELS = None # Increase the MAX_IMAGE_PIXELS limit\n",
        "  preview_image_metadata_only(local_path)\n",
        "\n",
        "\n",
        "  # Step 3: Downsize the image\n",
        "  downsize_image_by_chunk(local_path, output_path, percentage=10, bit_depth=\"L\", chunk_height=1024, output_format=\"TIFF\")"
      ]
    }
  ],
  "metadata": {
    "colab": {
      "provenance": []
    },
    "kernelspec": {
      "display_name": "Python 3",
      "name": "python3"
    },
    "language_info": {
      "name": "python"
    }
  },
  "nbformat": 4,
  "nbformat_minor": 0
}
